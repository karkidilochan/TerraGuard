{
 "cells": [
  {
   "cell_type": "markdown",
   "metadata": {},
   "source": [
    "Load Documents"
   ]
  },
  {
   "cell_type": "code",
   "execution_count": 1,
   "metadata": {},
   "outputs": [
    {
     "name": "stderr",
     "output_type": "stream",
     "text": [
      "USER_AGENT environment variable not set, consider setting it to identify your requests.\n"
     ]
    },
    {
     "name": "stdout",
     "output_type": "stream",
     "text": [
      "43130\n"
     ]
    }
   ],
   "source": [
    "import bs4\n",
    "from langchain_community.document_loaders import WebBaseLoader\n",
    "\n",
    "\n",
    "bs4_strainer = bs4.SoupStrainer(class_=('post-title',\"post-header\", \"post-content\"))\n",
    "\n",
    "loader = WebBaseLoader(web_paths = (\"https://lilianweng.github.io/posts/2023-06-23-agent/\",), bs_kwargs = {\"parse_only\": bs4_strainer})\n",
    "\n",
    "docs = loader.load()\n",
    "\n",
    "assert len(docs) == 1\n",
    "print(len(docs[0].page_content))"
   ]
  },
  {
   "cell_type": "markdown",
   "metadata": {},
   "source": [
    "Splitting Documents"
   ]
  },
  {
   "cell_type": "code",
   "execution_count": 2,
   "metadata": {},
   "outputs": [
    {
     "name": "stdout",
     "output_type": "stream",
     "text": [
      "66\n"
     ]
    }
   ],
   "source": [
    "from langchain_text_splitters import RecursiveCharacterTextSplitter\n",
    "\n",
    "text_splitter = RecursiveCharacterTextSplitter(\n",
    "    chunk_size = 1000,\n",
    "    chunk_overlap = 200,\n",
    "    add_start_index = True,\n",
    ")\n",
    "\n",
    "all_splits = text_splitter.split_documents(docs)\n",
    "\n",
    "print(len(all_splits))"
   ]
  },
  {
   "cell_type": "markdown",
   "metadata": {},
   "source": [
    "Storing Documents"
   ]
  },
  {
   "cell_type": "code",
   "execution_count": 3,
   "metadata": {},
   "outputs": [
    {
     "name": "stderr",
     "output_type": "stream",
     "text": [
      "/home/dilochan/Documents/projects/terraguard/.venv/lib/python3.9/site-packages/tqdm/auto.py:21: TqdmWarning: IProgress not found. Please update jupyter and ipywidgets. See https://ipywidgets.readthedocs.io/en/stable/user_install.html\n",
      "  from .autonotebook import tqdm as notebook_tqdm\n",
      "/home/dilochan/Documents/projects/terraguard/.venv/lib/python3.9/site-packages/langchain_mistralai/embeddings.py:181: UserWarning: Could not download mistral tokenizer from Huggingface for calculating batch sizes. Set a Huggingface token via the HF_TOKEN environment variable to download the real tokenizer. Falling back to a dummy tokenizer that uses `len()`.\n",
      "  warnings.warn(\n"
     ]
    }
   ],
   "source": [
    "import getpass\n",
    "import os\n",
    "\n",
    "if not os.environ.get(\"MISTRALAI_API_KEY\"):\n",
    "  os.environ[\"MISTRALAI_API_KEY\"] = getpass.getpass(\"Enter API key for MistralAI: \")\n",
    "\n",
    "from langchain_mistralai import MistralAIEmbeddings\n",
    "\n",
    "embeddings = MistralAIEmbeddings(model=\"mistral-embed\")"
   ]
  },
  {
   "cell_type": "code",
   "execution_count": 5,
   "metadata": {},
   "outputs": [],
   "source": [
    "from langchain.chat_models import init_chat_model\n",
    "\n",
    "llm = init_chat_model(\"mistral-large-latest\", model_provider=\"mistralai\")\n",
    "\n",
    "from langchain_core.vectorstores import InMemoryVectorStore\n",
    "\n",
    "vector_store = InMemoryVectorStore(embeddings)"
   ]
  },
  {
   "cell_type": "code",
   "execution_count": 6,
   "metadata": {},
   "outputs": [
    {
     "name": "stdout",
     "output_type": "stream",
     "text": [
      "['4a4b6366-2b55-4485-a181-ac9b9b8b7675', 'a619e7f7-0154-447d-9fe6-3acb4e95433d', '06f88e38-4c21-4fa5-8e03-675bac0af9d5', 'bd61cc38-8965-45d0-ae5f-ff08525148ee', '073dbc1c-b03f-4055-8c55-aa9848715482', '65ad5e65-0821-42ac-8d37-6a4783439b73', 'c729866e-ad35-4cdd-9126-9ca7cd671ae7', 'c5a72909-3486-456f-b89e-ba092cb4d46a', '6077f466-30fc-4a2b-b2f6-e27a57ce12ab', '5779fa12-c9e1-4082-ba25-1425db311692', '129f90b7-60ca-4802-918f-bf5dcb2e8c6d', '79bedd1b-9c1c-4af3-9682-8b00110e5380', '1bb4b386-e02b-4364-914d-1dfc76b51767', '901361cd-2c36-43c5-bccc-b115bb7e3b95', 'f5572192-100e-406f-b850-c4225d2b2043', '478b8cea-c0c0-4e2d-984a-7c598058f3c2', 'e6b0babf-360f-42fc-8e4e-8722ee710d35', 'dfff670e-2437-4ca1-a103-3029001bd749', 'df4fb718-0599-4a72-8041-e1085418e858', 'd931ebba-0dcd-4b06-9949-bc98955244fe', '67acab27-80a3-4896-ad46-8a5621237876', '6b5e3cc3-b136-425a-a29a-6b6db18ca9a0', 'e6e0d4da-341d-4252-ad25-dc879a427a10', '958fb291-d02d-4529-9d6d-87d68b7f33d6', 'e27729f8-6ac8-48d5-98a6-06ae90ffa352', '425ed20e-2fec-4ebb-b092-051863df2511', 'f4d161f2-5280-44ab-9ed0-ad50ffe5bd60', '07ca2283-e83f-4250-93a8-9aad494534f7', '321e7895-0921-4285-b247-d7e3b7f2575f', '92f9eb46-af84-4610-a771-1df230b466fc', '54d0cd67-6c99-41a0-a8f1-1924de6628e9', '92581198-5a9f-43ff-962a-8ab375521c76', 'd5d13c36-dad5-41c9-90fa-01e4a8feed23', '1d536715-d9b6-4874-bda4-bc76b3ed44f9', 'f593e672-4fc9-4533-9962-030d6374eade', '5d65c766-ad58-40c0-b3e0-6e668db54675', 'f61fa8a7-986e-426f-b5c2-7b2ab4fdc1e8', 'e1c2a0f7-4a05-4798-b50e-f97ddc15d351', '4c67a739-58de-4f6c-b1e0-61b4adeba862', '453630a6-7c58-42f4-b3c8-0eb6717a96bc', 'c5b07dcd-0964-424f-a7d3-b1bae3f239ad', '858bf6e1-98c8-44e3-9625-a57fdd95bbac', 'cf8a8608-e64a-4dd2-8a55-1f8d8e2b1925', '96101fa4-0e75-4e04-844e-d2f35c249f79', 'ffea4911-f101-4401-9a36-7f12a94ed0cf', '09a51781-11c7-45bb-9a12-b4bf91ace2c0', '0235bc4c-226b-452c-b4d5-be8a25cffda9', '7e4f2a4a-4619-43aa-807a-c774bb9b58e9', '2e28aa03-09fe-4b40-b06d-649204f1e343', '5dfe9695-dfd2-41cc-b220-bb5995108b55', '29db284d-947a-40d3-9332-e6d485c56377', '5e4da996-38eb-4b79-a5f2-012f9e96d16c', '8d87b936-e629-4900-b142-33c60462e539', 'c8c3da2c-b759-4af2-8433-7d4fee66060a', '49d0344e-6eed-496b-9c0b-25ff1a2ed884', '20e6fe36-51e7-4425-b57f-e1f4e169433d', 'a19831d3-565e-4c7b-86b1-8041a7d4d9be', '6ba076f3-505c-4f1c-a58c-470441fb84ae', '9c7eecf0-ccf3-4c5e-aae9-dd2887f5c20f', 'fc45cf55-f1b0-4b83-95bb-686ecf69087e', '248250ef-d5d5-4f7b-9b33-a7ac0336436d', '8a612ad1-f6b9-4bf0-80ce-c15da27448af', '55d0daa7-450e-4e0b-a3ad-2133c839fbaf', '1af23f28-242b-43d5-95f5-c93c3676e947', '5ce3b423-40a0-418b-9f0e-7a464d6e779f', '4a5831e4-eae4-4d78-ac5e-83bc4fdd79ab']\n"
     ]
    }
   ],
   "source": [
    "document_ids = vector_store.add_documents(documents=all_splits)\n",
    "print(document_ids)"
   ]
  },
  {
   "cell_type": "markdown",
   "metadata": {},
   "source": [
    "Retrieval and Generation"
   ]
  },
  {
   "cell_type": "code",
   "execution_count": 21,
   "metadata": {},
   "outputs": [
    {
     "name": "stdout",
     "output_type": "stream",
     "text": [
      "[HumanMessage(content=\"You are an assistant for question-answering tasks. Use the following pieces of retrieved context to answer the question. If you don't know the answer, just say that you don't know. Use three sentences maximum and keep the answer concise.\\nQuestion: (question goes here) \\nContext: (context goes here) \\nAnswer:\", additional_kwargs={}, response_metadata={})]\n"
     ]
    },
    {
     "name": "stderr",
     "output_type": "stream",
     "text": [
      "/home/dilochan/Documents/projects/terraguard/.venv/lib/python3.9/site-packages/langsmith/client.py:253: LangSmithMissingAPIKeyWarning: API key must be provided when using hosted LangSmith API\n",
      "  warnings.warn(\n"
     ]
    }
   ],
   "source": [
    "from langchain import hub\n",
    "\n",
    "prompt = hub.pull(\"rlm/rag-prompt\")\n",
    "\n",
    "example_message =  prompt.invoke({\n",
    "    \"context\": \"(context goes here)\",\n",
    "    \"question\": \"(question goes here)\",\n",
    "}).to_messages()\n",
    "\n",
    "print(example_message)"
   ]
  },
  {
   "cell_type": "code",
   "execution_count": 26,
   "metadata": {},
   "outputs": [
    {
     "name": "stdout",
     "output_type": "stream",
     "text": [
      "Fig. 3. Illustration of the Reflexion framework. (Image source: Shinn & Labash, 2023)\n",
      "The heuristic function determines when the trajectory is inefficient or contains hallucination and should be stopped. Inefficient planning refers to trajectories that take too long without success. Hallucination is defined as encountering a sequence of consecutive identical actions that lead to the same observation in the environment.\n",
      "Self-reflection is created by showing two-shot examples to LLM and each example is a pair of (failed trajectory, ideal reflection for guiding future changes in the plan). Then reflections are added into the agent’s working memory, up to three, to be used as context for querying LLM.\n",
      "\n",
      "Memory stream: is a long-term memory module (external database) that records a comprehensive list of agents’ experience in natural language.\n",
      "\n",
      "Each element is an observation, an event directly provided by the agent.\n",
      "- Inter-agent communication can trigger new natural language statements.\n",
      "\n",
      "\n",
      "Retrieval model: surfaces the context to inform the agent’s behavior, according to relevance, recency and importance.\n",
      "\n",
      "Recency: recent events have higher scores\n",
      "Importance: distinguish mundane from core memories. Ask LM directly.\n",
      "Relevance: based on how related it is to the current situation / query.\n",
      "\n",
      "\n",
      "Reflection mechanism: synthesizes memories into higher level inferences over time and guides the agent’s future behavior. They are higher-level summaries of past events (<- note that this is a bit different from self-reflection above)\n",
      "\n",
      "Another quite distinct approach, LLM+P (Liu et al. 2023), involves relying on an external classical planner to do long-horizon planning. This approach utilizes the Planning Domain Definition Language (PDDL) as an intermediate interface to describe the planning problem. In this process, LLM (1) translates the problem into “Problem PDDL”, then (2) requests a classical planner to generate a PDDL plan based on an existing “Domain PDDL”, and finally (3) translates the PDDL plan back into natural language. Essentially, the planning step is outsourced to an external tool, assuming the availability of domain-specific PDDL and a suitable planner which is common in certain robotic setups but not in many other domains.\n",
      "Self-Reflection#\n",
      "Self-reflection is a vital aspect that allows autonomous agents to improve iteratively by refining past action decisions and correcting previous mistakes. It plays a crucial role in real-world tasks where trial and error are inevitable.\n",
      "\n",
      "Fig. 2.  Examples of reasoning trajectories for knowledge-intensive tasks (e.g. HotpotQA, FEVER) and decision-making tasks (e.g. AlfWorld Env, WebShop). (Image source: Yao et al. 2023).\n",
      "In both experiments on knowledge-intensive tasks and decision-making tasks, ReAct works better than the Act-only baseline where Thought: … step is removed.\n",
      "Reflexion (Shinn & Labash 2023) is a framework to equip agents with dynamic memory and self-reflection capabilities to improve reasoning skills. Reflexion has a standard RL setup, in which the reward model provides a simple binary reward and the action space follows the setup in ReAct where the task-specific action space is augmented with language to enable complex reasoning steps. After each action $a_t$, the agent computes a heuristic $h_t$ and optionally may decide to reset the environment to start a new trial depending on the self-reflection results.\n"
     ]
    },
    {
     "data": {
      "text/plain": [
       "'Self-reflection is a process that allows autonomous agents to improve by reviewing and learning from past actions and mistakes. It is particularly useful in real-world tasks where trial and error are common. In the context of the Reflexion framework, self-reflection is facilitated by providing examples of failed trajectories and ideal reflections to a language model, which then guides future planning.'"
      ]
     },
     "execution_count": 26,
     "metadata": {},
     "output_type": "execute_result"
    }
   ],
   "source": [
    "question = \"what is self reflection?\"\n",
    "\n",
    "retrieved_docs = vector_store.similarity_search(question)\n",
    "docs_content = \"\\n\\n\".join(doc.page_content for doc in retrieved_docs)\n",
    "print(docs_content)\n",
    "answer = llm.invoke(prompt.invoke({\"question\": question, \"context\": docs_content}))\n",
    "answer.content"
   ]
  },
  {
   "cell_type": "code",
   "execution_count": 23,
   "metadata": {},
   "outputs": [
    {
     "data": {
      "text/plain": [
       "'Task decomposition in AI agents is done through methods like Chain of Thought (CoT), where the agent is prompted to \"think step by step\" to break down complex tasks into smaller, manageable ones. This process transforms large tasks into multiple simpler tasks, making them easier to handle and providing insight into the model\\'s thinking process. The agent can then plan and execute these smaller tasks in a logical order.'"
      ]
     },
     "execution_count": 23,
     "metadata": {},
     "output_type": "execute_result"
    }
   ],
   "source": [
    "answer.content"
   ]
  },
  {
   "cell_type": "code",
   "execution_count": null,
   "metadata": {},
   "outputs": [],
   "source": []
  }
 ],
 "metadata": {
  "kernelspec": {
   "display_name": ".venv",
   "language": "python",
   "name": "python3"
  },
  "language_info": {
   "codemirror_mode": {
    "name": "ipython",
    "version": 3
   },
   "file_extension": ".py",
   "mimetype": "text/x-python",
   "name": "python",
   "nbconvert_exporter": "python",
   "pygments_lexer": "ipython3",
   "version": "3.9.12"
  }
 },
 "nbformat": 4,
 "nbformat_minor": 2
}
